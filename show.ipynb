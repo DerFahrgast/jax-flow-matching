{
 "cells": [
  {
   "cell_type": "code",
   "execution_count": null,
   "metadata": {},
   "outputs": [],
   "source": [
    "import jax\n",
    "import jax.numpy as jnp\n",
    "from jax import random, jit, vmap\n",
    "from jax.experimental import ode\n",
    "from jax.scipy.stats import norm\n",
    "from functools import partial"
   ]
  },
  {
   "cell_type": "markdown",
   "metadata": {},
   "source": [
    "# Defining items"
   ]
  },
  {
   "cell_type": "markdown",
   "metadata": {},
   "source": [
    "## Flow matching"
   ]
  },
  {
   "cell_type": "code",
   "execution_count": null,
   "metadata": {},
   "outputs": [],
   "source": [
    "def make_cond_flow(sigma_min):\n",
    "\n",
    "    def mu(x1, t):\n",
    "        return t*x1\n",
    "\n",
    "    def sigma(x1, t):\n",
    "        return 1 - (1 - sigma_min)*t\n",
    "\n",
    "    @partial(vmap, in_axes=(0, 0, 0), out_axes=0)\n",
    "    def cond_flow(x0, x1, t):\n",
    "        return sigma(x1, t) * x0 + mu(x1, t)\n",
    "\n",
    "    def cond_vec_field(x, x1, t):\n",
    "        return (x1 - (1 - sigma_min)*x)/(1 - (1 - sigma_min)*t)\n",
    "\n",
    "    return cond_flow, cond_vec_field"
   ]
  },
  {
   "cell_type": "markdown",
   "metadata": {},
   "source": [
    "## NeuralODE "
   ]
  },
  {
   "cell_type": "code",
   "execution_count": null,
   "metadata": {},
   "outputs": [],
   "source": [
    "def NeuralODE(vec_field_net, batch_size, dim):\n",
    "    \n",
    "    def batched_sampler(rng, params):\n",
    "        '''\n",
    "        flow from x0 to x1\n",
    "        '''\n",
    "        x0 = random.normal(rng, (batch_size, dim))\n",
    "\n",
    "        def _ode(x, t):\n",
    "            return vmap(vec_field_net, (None, 0, None), 0)(params, x, t)\n",
    "\n",
    "        xt = ode.odeint(_ode, \n",
    "                        x0, \n",
    "                        jnp.array([0.0, 1.0]),\n",
    "                        rtol=1e-10, atol=1e-10\n",
    "                        )\n",
    "        return xt[-1]\n",
    "\n",
    "    @partial(vmap, in_axes=(None, 0), out_axes=0)\n",
    "    def logp(params, x):\n",
    "        '''\n",
    "        likelihood of given samples\n",
    "        '''\n",
    "        def base_logp(x):\n",
    "            return norm.logpdf(x).sum(-1)\n",
    "\n",
    "        def _ode(state, t):\n",
    "            x = state[0]\n",
    "            return -vec_field_net(params, x, t), divergence_fwd(vec_field_net)(params, x, t)\n",
    "\n",
    "        logp = 0.0\n",
    "        xt, logpt = ode.odeint(_ode, \n",
    "                            [x, logp], \n",
    "                            jnp.array([0.0, 1.0]),\n",
    "                            rtol=1e-10, atol=1e-10\n",
    "                            )\n",
    "        return -logpt[-1] + base_logp(xt[-1])\n",
    "\n",
    "    def divergence_fwd(f):\n",
    "        def _div_f(params, x, t):\n",
    "            jac = jax.jacfwd(lambda x: f(params, x, t))\n",
    "            return jnp.trace(jac(x))\n",
    "        return _div_f\n",
    "    \n",
    "    \n",
    "    return batched_sampler, logp"
   ]
  },
  {
   "cell_type": "markdown",
   "metadata": {},
   "source": [
    "## Loss"
   ]
  },
  {
   "cell_type": "code",
   "execution_count": null,
   "metadata": {},
   "outputs": [],
   "source": [
    "def make_loss(vec_field_net, cond_vec_field):\n",
    "\n",
    "    @partial(vmap, in_axes=(None, 0, 0, 0), out_axes=0)\n",
    "    def loss(params, x, x1, t):\n",
    "        return jnp.linalg.norm(vec_field_net(params, x, t) - cond_vec_field(x, x1, t))\n",
    "\n",
    "    return lambda params, x, x1, t: loss(params, x, x1, t).mean()"
   ]
  },
  {
   "cell_type": "markdown",
   "metadata": {},
   "source": [
    "# Loading datasets"
   ]
  },
  {
   "cell_type": "code",
   "execution_count": null,
   "metadata": {},
   "outputs": [],
   "source": [
    "import matplotlib.pyplot as plt\n",
    "from sklearn import datasets, preprocessing\n",
    "from IPython.display import clear_output\n",
    "\n",
    "%matplotlib inline"
   ]
  },
  {
   "cell_type": "code",
   "execution_count": null,
   "metadata": {},
   "outputs": [],
   "source": [
    "n_samples = 100000\n",
    "plot_range = [(-2, 2), (-2, 2)]\n",
    "n_bins = 100\n",
    "\n",
    "scaler = preprocessing.StandardScaler()\n",
    "X, _ = datasets.make_moons(n_samples=n_samples, noise=.05)\n",
    "X = scaler.fit_transform(X)\n",
    "plt.hist2d(X[:, 0], X[:, 1], bins=n_bins, range=plot_range)[-1]"
   ]
  },
  {
   "cell_type": "markdown",
   "metadata": {},
   "source": [
    "# Building networks"
   ]
  },
  {
   "cell_type": "code",
   "execution_count": null,
   "metadata": {},
   "outputs": [],
   "source": [
    "from jax.example_libraries.stax import serial, Dense, Relu, Softplus\n",
    "\n",
    "rng = random.PRNGKey(42)\n",
    "\n",
    "dim = X.shape[1]\n",
    "sigma_min = 0.01\n",
    "num_epochs, batch_size = 400, 1000"
   ]
  },
  {
   "cell_type": "code",
   "execution_count": null,
   "metadata": {},
   "outputs": [],
   "source": [
    "def net_in_ode(rng):\n",
    "    net_init, net_apply = serial(Dense(8), Softplus, Dense(dim))\n",
    "    in_shape = (-1, dim+1)\n",
    "    _, net_params = net_init(rng, in_shape)\n",
    "\n",
    "    def net_apply_with_t(params, x, t):\n",
    "        return net_apply(params, jnp.concatenate((x,t.reshape(1))))\n",
    "    \n",
    "    return net_params, net_apply_with_t"
   ]
  },
  {
   "cell_type": "code",
   "execution_count": null,
   "metadata": {},
   "outputs": [],
   "source": [
    "init_rng, rng = random.split(rng)\n",
    "params, vec_field_net = net_in_ode(init_rng)\n",
    "batched_cond_flow, cond_vec_field = make_cond_flow(sigma_min)\n",
    "batched_sampler, batched_logp = NeuralODE(vec_field_net, batch_size, dim)\n",
    "\n",
    "loss = make_loss(vec_field_net, cond_vec_field)\n",
    "value_and_grad = jax.value_and_grad(loss)\n",
    "\n",
    "from jax.example_libraries import optimizers\n",
    "\n",
    "opt_init, opt_update, get_params = optimizers.adam(step_size=1e-2)\n",
    "opt_state = opt_init(params)"
   ]
  },
  {
   "cell_type": "markdown",
   "metadata": {},
   "source": [
    "# Step"
   ]
  },
  {
   "cell_type": "code",
   "execution_count": null,
   "metadata": {},
   "outputs": [],
   "source": [
    "def step(rng, i, opt_state, inputs):\n",
    "    params = get_params(opt_state)\n",
    "\n",
    "    n_rng, u_rng = random.split(rng)\n",
    "    t = random.uniform(u_rng, (batch_size,))\n",
    "    x = batched_cond_flow(random.normal(n_rng, (batch_size, dim)), inputs, t)\n",
    "\n",
    "    value, grad = value_and_grad(params, x, inputs, t)\n",
    "    return opt_update(i, grad, opt_state), value"
   ]
  },
  {
   "cell_type": "code",
   "execution_count": null,
   "metadata": {},
   "outputs": [],
   "source": [
    "import itertools\n",
    "\n",
    "itercount = itertools.count()\n",
    "\n",
    "LOSS = []\n",
    "for epoch in range(num_epochs):\n",
    "    clear_output(wait=True) # Clear plotting\n",
    "\n",
    "    permute_rng, step_rng, rng = random.split(rng, 3)\n",
    "    X = random.permutation(permute_rng, X)\n",
    "    for batch_index in range(0, len(X), batch_size):\n",
    "        opt_state, value = step(step_rng, next(itercount), opt_state, X[batch_index:batch_index+batch_size])\n",
    "        LOSS.append(value)\n",
    "     \n",
    "params = get_params(opt_state)\n",
    "sample_rng, rng = random.split(rng)\n",
    "\n",
    "X_syn = batched_sampler(sample_rng, params)\n",
    "\n",
    "fig = plt.figure(figsize=(12, 6))\n",
    "plt.subplot(1, 2, 1)\n",
    "plt.hist2d(X_syn[:, 0], X_syn[:, 1], bins=n_bins, range=plot_range)\n",
    "\n",
    "plt.subplot(1, 2, 2)\n",
    "plt.plot(LOSS)\n",
    "\n",
    "plt.show()"
   ]
  }
 ],
 "metadata": {
  "kernelspec": {
   "display_name": "Python 3.9.7 ('base')",
   "language": "python",
   "name": "python3"
  },
  "language_info": {
   "codemirror_mode": {
    "name": "ipython",
    "version": 3
   },
   "file_extension": ".py",
   "mimetype": "text/x-python",
   "name": "python",
   "nbconvert_exporter": "python",
   "pygments_lexer": "ipython3",
   "version": "3.9.7"
  },
  "orig_nbformat": 4,
  "vscode": {
   "interpreter": {
    "hash": "76abdbe1bb67603aacbc390f9876631056a3c7e7a3dec15b62bae4c72d78d5a2"
   }
  }
 },
 "nbformat": 4,
 "nbformat_minor": 2
}
